{
 "cells": [
  {
   "cell_type": "code",
   "execution_count": 1,
   "id": "6ac5a46d",
   "metadata": {},
   "outputs": [],
   "source": [
    "import torch\n",
    "from torch.utils.data import Dataset\n",
    "import h5py\n",
    "import numpy as np\n",
    "import torch\n",
    "import torch.nn as nn\n",
    "import torch.optim as optim\n",
    "from torch.optim import lr_scheduler\n",
    "from torchvision import models, transforms\n",
    "from torch.utils.data import DataLoader, WeightedRandomSampler\n",
    "import numpy as np\n",
    "from sklearn.metrics import accuracy_score, confusion_matrix\n",
    "from tqdm import tqdm\n",
    "import time\n",
    "import copy\n",
    "from collections import Counter\n",
    "\n",
    "class PCamDataset(Dataset):\n",
    "    def __init__(self, h5_x_path, h5_y_path, transform=None):\n",
    "        self.x_h5 = h5py.File(h5_x_path, 'r')\n",
    "        self.y_h5 = h5py.File(h5_y_path, 'r')\n",
    "        self.transform = transform\n",
    "        self.length = len(self.y_h5['y'])\n",
    "\n",
    "    def __len__(self):\n",
    "        return self.length\n",
    "\n",
    "    def __getitem__(self, idx):\n",
    "        image = self.x_h5['x'][idx]  # shape: (96, 96, 3), dtype: uint8\n",
    "        label = self.y_h5['y'][idx].item()\n",
    "\n",
    "\n",
    "        # numpy → PIL → transform\n",
    "        image = image.astype(np.uint8)\n",
    "        image = transforms.ToPILImage()(image)\n",
    "\n",
    "        if self.transform:\n",
    "            image = self.transform(image)\n",
    "\n",
    "        return image, label\n",
    "\n",
    "transform_train = transforms.Compose([\n",
    "    transforms.RandomResizedCrop(96, scale=(0.8, 1.0)),\n",
    "    transforms.RandomHorizontalFlip(),\n",
    "    transforms.RandomVerticalFlip(),\n",
    "    transforms.RandomRotation(20),\n",
    "    transforms.ColorJitter(0.2, 0.2, 0.2, 0.1),\n",
    "    transforms.ToTensor(),\n",
    "    transforms.Normalize(mean=[0.485, 0.456, 0.406],\n",
    "                         std=[0.229, 0.224, 0.225])\n",
    "])\n",
    "\n",
    "\n",
    "transform_test = transforms.Compose([\n",
    "    transforms.ToTensor(),\n",
    "    transforms.Normalize(mean=[0.485, 0.456, 0.406], std=[0.229, 0.224, 0.225])\n",
    "])\n",
    "\n",
    "# データセットとデータローダーの設定 (あなたのコードをそのまま使用)\n",
    "train_dataset = PCamDataset('camelyonpatch_level_2_split_train_x.h5',\n",
    "                           'camelyonpatch_level_2_split_train_y.h5',\n",
    "                           transform=transform_train)\n",
    "\n",
    "test_dataset = PCamDataset('camelyonpatch_level_2_split_test_x.h5',\n",
    "                          'camelyonpatch_level_2_split_test_y.h5',\n",
    "                          transform=transform_test)\n",
    "\n",
    "val_dataset = PCamDataset('valid_x_uncompressed.h5', 'valid_y_uncompressed.h5', transform=transform_test)\n",
    "\n",
    "train_loader = DataLoader(train_dataset, batch_size=64, shuffle=True, num_workers=4)\n",
    "val_loader = DataLoader(val_dataset, batch_size=64, shuffle=False, num_workers=4)\n",
    "test_loader = DataLoader(test_dataset, batch_size=64, shuffle=False, num_workers=4)\n"
   ]
  },
  {
   "cell_type": "code",
   "execution_count": 2,
   "id": "a723df4d",
   "metadata": {},
   "outputs": [
    {
     "name": "stderr",
     "output_type": "stream",
     "text": [
      "/home/gotou/miniconda3/envs/myenv/lib/python3.11/site-packages/torchvision/models/_utils.py:208: UserWarning: The parameter 'pretrained' is deprecated since 0.13 and may be removed in the future, please use 'weights' instead.\n",
      "  warnings.warn(\n",
      "/home/gotou/miniconda3/envs/myenv/lib/python3.11/site-packages/torchvision/models/_utils.py:223: UserWarning: Arguments other than a weight enum or `None` for 'weights' are deprecated since 0.13 and may be removed in the future. The current behavior is equivalent to passing `weights=ResNet50_Weights.IMAGENET1K_V1`. You can also use `weights=ResNet50_Weights.DEFAULT` to get the most up-to-date weights.\n",
      "  warnings.warn(msg)\n"
     ]
    },
    {
     "name": "stdout",
     "output_type": "stream",
     "text": [
      "Epoch 0/29\n",
      "----------\n"
     ]
    },
    {
     "name": "stderr",
     "output_type": "stream",
     "text": [
      "100%|██████████| 2048/2048 [03:51<00:00,  8.86it/s]\n"
     ]
    },
    {
     "name": "stdout",
     "output_type": "stream",
     "text": [
      "train Loss: 0.0831 | Acc: 0.8090\n",
      "train Class 0 Recall: 0.8037 | Class 1 Recall: 0.8143\n",
      "train AUC: 0.8893\n",
      "\n"
     ]
    },
    {
     "name": "stderr",
     "output_type": "stream",
     "text": [
      "100%|██████████| 256/256 [00:09<00:00, 28.32it/s]\n"
     ]
    },
    {
     "name": "stdout",
     "output_type": "stream",
     "text": [
      "val Loss: 0.0842 | Acc: 0.7839\n",
      "val Class 0 Recall: 0.8674 | Class 1 Recall: 0.7011\n",
      "val AUC: 0.8941\n",
      "\n",
      "Epoch 1/29\n",
      "----------\n"
     ]
    },
    {
     "name": "stderr",
     "output_type": "stream",
     "text": [
      "100%|██████████| 2048/2048 [03:55<00:00,  8.68it/s]\n"
     ]
    },
    {
     "name": "stdout",
     "output_type": "stream",
     "text": [
      "train Loss: 0.0627 | Acc: 0.8673\n",
      "train Class 0 Recall: 0.8707 | Class 1 Recall: 0.8640\n",
      "train AUC: 0.9398\n",
      "\n"
     ]
    },
    {
     "name": "stderr",
     "output_type": "stream",
     "text": [
      "100%|██████████| 256/256 [00:08<00:00, 28.52it/s]\n"
     ]
    },
    {
     "name": "stdout",
     "output_type": "stream",
     "text": [
      "val Loss: 0.0752 | Acc: 0.8178\n",
      "val Class 0 Recall: 0.9214 | Class 1 Recall: 0.7168\n",
      "val AUC: 0.9250\n",
      "\n",
      "Epoch 2/29\n",
      "----------\n"
     ]
    },
    {
     "name": "stderr",
     "output_type": "stream",
     "text": [
      "100%|██████████| 2048/2048 [03:56<00:00,  8.68it/s]\n"
     ]
    },
    {
     "name": "stdout",
     "output_type": "stream",
     "text": [
      "train Loss: 0.0539 | Acc: 0.8899\n",
      "train Class 0 Recall: 0.8976 | Class 1 Recall: 0.8822\n",
      "train AUC: 0.9556\n",
      "\n"
     ]
    },
    {
     "name": "stderr",
     "output_type": "stream",
     "text": [
      "100%|██████████| 256/256 [00:09<00:00, 28.26it/s]\n"
     ]
    },
    {
     "name": "stdout",
     "output_type": "stream",
     "text": [
      "val Loss: 0.0915 | Acc: 0.8145\n",
      "val Class 0 Recall: 0.9566 | Class 1 Recall: 0.6722\n",
      "val AUC: 0.9226\n",
      "\n",
      "No improvement for 1 epochs\n",
      "Epoch 3/29\n",
      "----------\n"
     ]
    },
    {
     "name": "stderr",
     "output_type": "stream",
     "text": [
      "100%|██████████| 2048/2048 [03:55<00:00,  8.68it/s]\n"
     ]
    },
    {
     "name": "stdout",
     "output_type": "stream",
     "text": [
      "train Loss: 0.0501 | Acc: 0.8985\n",
      "train Class 0 Recall: 0.9075 | Class 1 Recall: 0.8897\n",
      "train AUC: 0.9614\n",
      "\n"
     ]
    },
    {
     "name": "stderr",
     "output_type": "stream",
     "text": [
      "100%|██████████| 256/256 [00:09<00:00, 28.24it/s]\n"
     ]
    },
    {
     "name": "stdout",
     "output_type": "stream",
     "text": [
      "val Loss: 0.0704 | Acc: 0.8487\n",
      "val Class 0 Recall: 0.9201 | Class 1 Recall: 0.7771\n",
      "val AUC: 0.9341\n",
      "\n",
      "Epoch 4/29\n",
      "----------\n"
     ]
    },
    {
     "name": "stderr",
     "output_type": "stream",
     "text": [
      "100%|██████████| 2048/2048 [03:55<00:00,  8.68it/s]\n"
     ]
    },
    {
     "name": "stdout",
     "output_type": "stream",
     "text": [
      "train Loss: 0.0483 | Acc: 0.9035\n",
      "train Class 0 Recall: 0.9142 | Class 1 Recall: 0.8928\n",
      "train AUC: 0.9640\n",
      "\n"
     ]
    },
    {
     "name": "stderr",
     "output_type": "stream",
     "text": [
      "100%|██████████| 256/256 [00:09<00:00, 28.37it/s]\n"
     ]
    },
    {
     "name": "stdout",
     "output_type": "stream",
     "text": [
      "val Loss: 0.0626 | Acc: 0.8784\n",
      "val Class 0 Recall: 0.8945 | Class 1 Recall: 0.8625\n",
      "val AUC: 0.9500\n",
      "\n",
      "Epoch 5/29\n",
      "----------\n"
     ]
    },
    {
     "name": "stderr",
     "output_type": "stream",
     "text": [
      "100%|██████████| 2048/2048 [03:56<00:00,  8.67it/s]\n"
     ]
    },
    {
     "name": "stdout",
     "output_type": "stream",
     "text": [
      "train Loss: 0.0479 | Acc: 0.9050\n",
      "train Class 0 Recall: 0.9174 | Class 1 Recall: 0.8926\n",
      "train AUC: 0.9646\n",
      "\n"
     ]
    },
    {
     "name": "stderr",
     "output_type": "stream",
     "text": [
      "100%|██████████| 256/256 [00:09<00:00, 28.26it/s]\n"
     ]
    },
    {
     "name": "stdout",
     "output_type": "stream",
     "text": [
      "val Loss: 0.0631 | Acc: 0.8597\n",
      "val Class 0 Recall: 0.9009 | Class 1 Recall: 0.8181\n",
      "val AUC: 0.9443\n",
      "\n",
      "No improvement for 1 epochs\n",
      "Epoch 6/29\n",
      "----------\n"
     ]
    },
    {
     "name": "stderr",
     "output_type": "stream",
     "text": [
      "100%|██████████| 2048/2048 [03:55<00:00,  8.69it/s]\n"
     ]
    },
    {
     "name": "stdout",
     "output_type": "stream",
     "text": [
      "train Loss: 0.0475 | Acc: 0.9062\n",
      "train Class 0 Recall: 0.9180 | Class 1 Recall: 0.8945\n",
      "train AUC: 0.9654\n",
      "\n"
     ]
    },
    {
     "name": "stderr",
     "output_type": "stream",
     "text": [
      "100%|██████████| 256/256 [00:09<00:00, 28.41it/s]\n"
     ]
    },
    {
     "name": "stdout",
     "output_type": "stream",
     "text": [
      "val Loss: 0.0610 | Acc: 0.8725\n",
      "val Class 0 Recall: 0.8974 | Class 1 Recall: 0.8477\n",
      "val AUC: 0.9448\n",
      "\n",
      "No improvement for 2 epochs\n",
      "Epoch 7/29\n",
      "----------\n"
     ]
    },
    {
     "name": "stderr",
     "output_type": "stream",
     "text": [
      "100%|██████████| 2048/2048 [03:55<00:00,  8.68it/s]\n"
     ]
    },
    {
     "name": "stdout",
     "output_type": "stream",
     "text": [
      "train Loss: 0.0456 | Acc: 0.9112\n",
      "train Class 0 Recall: 0.9220 | Class 1 Recall: 0.9004\n",
      "train AUC: 0.9680\n",
      "\n"
     ]
    },
    {
     "name": "stderr",
     "output_type": "stream",
     "text": [
      "100%|██████████| 256/256 [00:08<00:00, 28.46it/s]\n"
     ]
    },
    {
     "name": "stdout",
     "output_type": "stream",
     "text": [
      "val Loss: 0.0628 | Acc: 0.8666\n",
      "val Class 0 Recall: 0.8753 | Class 1 Recall: 0.8579\n",
      "val AUC: 0.9410\n",
      "\n",
      "No improvement for 3 epochs\n",
      "Epoch 8/29\n",
      "----------\n"
     ]
    },
    {
     "name": "stderr",
     "output_type": "stream",
     "text": [
      "100%|██████████| 2048/2048 [03:55<00:00,  8.69it/s]\n"
     ]
    },
    {
     "name": "stdout",
     "output_type": "stream",
     "text": [
      "train Loss: 0.0428 | Acc: 0.9176\n",
      "train Class 0 Recall: 0.9277 | Class 1 Recall: 0.9075\n",
      "train AUC: 0.9719\n",
      "\n"
     ]
    },
    {
     "name": "stderr",
     "output_type": "stream",
     "text": [
      "100%|██████████| 256/256 [00:09<00:00, 28.25it/s]\n"
     ]
    },
    {
     "name": "stdout",
     "output_type": "stream",
     "text": [
      "val Loss: 0.0683 | Acc: 0.8568\n",
      "val Class 0 Recall: 0.9477 | Class 1 Recall: 0.7663\n",
      "val AUC: 0.9437\n",
      "\n",
      "No improvement for 4 epochs\n",
      "Epoch 9/29\n",
      "----------\n"
     ]
    },
    {
     "name": "stderr",
     "output_type": "stream",
     "text": [
      "100%|██████████| 2048/2048 [03:55<00:00,  8.69it/s]\n"
     ]
    },
    {
     "name": "stdout",
     "output_type": "stream",
     "text": [
      "train Loss: 0.0397 | Acc: 0.9234\n",
      "train Class 0 Recall: 0.9333 | Class 1 Recall: 0.9134\n",
      "train AUC: 0.9756\n",
      "\n"
     ]
    },
    {
     "name": "stderr",
     "output_type": "stream",
     "text": [
      "100%|██████████| 256/256 [00:08<00:00, 28.56it/s]\n"
     ]
    },
    {
     "name": "stdout",
     "output_type": "stream",
     "text": [
      "val Loss: 0.0802 | Acc: 0.8445\n",
      "val Class 0 Recall: 0.9329 | Class 1 Recall: 0.7559\n",
      "val AUC: 0.9385\n",
      "\n",
      "No improvement for 5 epochs\n",
      "Early stopping!\n"
     ]
    },
    {
     "name": "stderr",
     "output_type": "stream",
     "text": [
      "100%|██████████| 256/256 [00:08<00:00, 28.77it/s]\n"
     ]
    },
    {
     "name": "stdout",
     "output_type": "stream",
     "text": [
      "Overall Test Accuracy: 85.10%\n",
      "Class 0 Recall: 90.57% | False Alarms: 1546\n",
      "Class 1 Recall: 79.62% | False Alarms: 3337\n",
      "AUC: 0.9375\n"
     ]
    }
   ],
   "source": [
    "# クラス不均衡に対処するためのWeightedRandomSampler\n",
    "def get_sampler(dataset):\n",
    "    labels = [label for _, label in dataset]\n",
    "    class_counts = Counter(labels)\n",
    "    class_weights = {cls: 1.0 / count for cls, count in class_counts.items()}\n",
    "    sample_weights = [class_weights[label] for label in labels]\n",
    "    sampler = WeightedRandomSampler(sample_weights, len(sample_weights), replacement=True)\n",
    "    return sampler\n",
    "\n",
    "train_sampler = get_sampler(train_dataset)\n",
    "val_sampler = get_sampler(val_dataset)\n",
    "\n",
    "train_loader = DataLoader(train_dataset, batch_size=128, sampler=train_sampler, num_workers=8, pin_memory=True)\n",
    "val_loader = DataLoader(val_dataset, batch_size=128, sampler=val_sampler, num_workers=8, pin_memory=True)\n",
    "test_loader = DataLoader(test_dataset, batch_size=128, shuffle=False, num_workers=8, pin_memory=True)\n",
    "\n",
    "# Focal Lossの実装 (クラス不均衡対策)\n",
    "class FocalLoss(nn.Module):\n",
    "    def __init__(self, alpha=0.75, gamma=2.0, reduction='mean'):\n",
    "        super(FocalLoss, self).__init__()\n",
    "        self.alpha = alpha\n",
    "        self.gamma = gamma\n",
    "        self.reduction = reduction\n",
    "\n",
    "    def forward(self, inputs, targets):\n",
    "        BCE_loss = nn.functional.binary_cross_entropy_with_logits(inputs, targets.float(), reduction='none')\n",
    "        pt = torch.exp(-BCE_loss)\n",
    "        F_loss = self.alpha * (1-pt)**self.gamma * BCE_loss\n",
    "        \n",
    "        if self.reduction == 'mean':\n",
    "            return torch.mean(F_loss)\n",
    "        elif self.reduction == 'sum':\n",
    "            return torch.sum(F_loss)\n",
    "        else:\n",
    "            return F_loss\n",
    "\n",
    "# モデルの定義と初期化\n",
    "def initialize_model():\n",
    "    model = models.resnet50(pretrained=True)\n",
    "    \n",
    "    # 入力チャネルが3x96x96なので最初の層を調整\n",
    "    model.conv1 = nn.Conv2d(3, 64, kernel_size=7, stride=2, padding=3, bias=False)\n",
    "    \n",
    "    # 最終層をバイナリ分類用に変更\n",
    "    num_ftrs = model.fc.in_features\n",
    "    model.fc = nn.Sequential(\n",
    "        nn.Linear(num_ftrs, 512),\n",
    "        nn.BatchNorm1d(512),\n",
    "        nn.ReLU(),\n",
    "        nn.Dropout(0.5),\n",
    "        nn.Linear(512, 1)\n",
    "    )\n",
    "    \n",
    "    return model\n",
    "\n",
    "device = torch.device(\"cuda:0\" if torch.cuda.is_available() else \"cpu\")\n",
    "model = initialize_model().to(device)\n",
    "\n",
    "# 損失関数とオプティマイザ\n",
    "criterion = FocalLoss(alpha=0.75, gamma=2.0)\n",
    "optimizer = optim.AdamW(model.parameters(), lr=0.0001, weight_decay=1e-4)\n",
    "\n",
    "# 学習率スケジューラー\n",
    "scheduler = lr_scheduler.OneCycleLR(optimizer, max_lr=0.001, steps_per_epoch=len(train_loader), epochs=30)\n",
    "\n",
    "# 早期終了のための変数\n",
    "early_stopping_patience = 5\n",
    "best_val_accuracy = 0.0\n",
    "epochs_without_improvement = 0\n",
    "\n",
    "# 学習と検証の関数\n",
    "import torch\n",
    "import torch.nn as nn\n",
    "import torch.optim as optim\n",
    "from torch.optim import lr_scheduler\n",
    "from torch.utils.data import DataLoader, WeightedRandomSampler\n",
    "from sklearn.metrics import accuracy_score, confusion_matrix, roc_auc_score, recall_score\n",
    "from tqdm import tqdm\n",
    "import time\n",
    "import copy\n",
    "from collections import Counter\n",
    "import numpy as np\n",
    "\n",
    "# 訓練と検証の関数を改良\n",
    "def train_model(model, criterion, optimizer, scheduler, num_epochs=30):\n",
    "    global best_val_accuracy, epochs_without_improvement\n",
    "    \n",
    "    best_model_wts = copy.deepcopy(model.state_dict())\n",
    "    \n",
    "    for epoch in range(num_epochs):\n",
    "        print(f'Epoch {epoch}/{num_epochs - 1}')\n",
    "        print('-' * 10)\n",
    "        \n",
    "        # 各エポックの訓練と検証のフェーズ\n",
    "        for phase in ['train', 'val']:\n",
    "            if phase == 'train':\n",
    "                model.train()\n",
    "                dataloader = train_loader\n",
    "            else:\n",
    "                model.eval()\n",
    "                dataloader = val_loader\n",
    "            \n",
    "            running_loss = 0.0\n",
    "            running_corrects = 0\n",
    "            all_labels = []\n",
    "            all_preds = []\n",
    "            all_probs = []\n",
    "            \n",
    "            # データをイテレート\n",
    "            for inputs, labels in tqdm(dataloader):\n",
    "                inputs = inputs.to(device)\n",
    "                labels = labels.to(device).float().unsqueeze(1)\n",
    "                \n",
    "                # 勾配をゼロに\n",
    "                optimizer.zero_grad()\n",
    "                \n",
    "                # 順伝播\n",
    "                with torch.set_grad_enabled(phase == 'train'):\n",
    "                    outputs = model(inputs)\n",
    "                    probs = torch.sigmoid(outputs)\n",
    "                    preds = probs > 0.5\n",
    "                    loss = criterion(outputs, labels)\n",
    "                    \n",
    "                    # 訓練フェーズなら逆伝播+最適化\n",
    "                    if phase == 'train':\n",
    "                        loss.backward()\n",
    "                        optimizer.step()\n",
    "                        scheduler.step()\n",
    "                \n",
    "                # 統計\n",
    "                running_loss += loss.item() * inputs.size(0)\n",
    "                running_corrects += torch.sum(preds == labels.data)\n",
    "                \n",
    "                # メトリクス計算用にデータを保存\n",
    "                all_labels.extend(labels.cpu().numpy())\n",
    "                all_preds.extend(preds.cpu().numpy())\n",
    "                all_probs.extend(probs.cpu().detach().numpy())\n",
    "            \n",
    "            # エポックごとのメトリクス計算\n",
    "            epoch_loss = running_loss / len(dataloader.dataset)\n",
    "            epoch_acc = running_corrects.double() / len(dataloader.dataset)\n",
    "            \n",
    "            # Recall (感度) をクラスごとに計算\n",
    "            recall_0 = recall_score(all_labels, all_preds, pos_label=0)\n",
    "            recall_1 = recall_score(all_labels, all_preds, pos_label=1)\n",
    "            \n",
    "            # AUCを計算\n",
    "            try:\n",
    "                auc = roc_auc_score(all_labels, all_probs)\n",
    "            except ValueError:\n",
    "                auc = 0.5  # 例外が発生した場合のデフォルト値\n",
    "            \n",
    "            print(f'{phase} Loss: {epoch_loss:.4f} | Acc: {epoch_acc:.4f}')\n",
    "            print(f'{phase} Class 0 Recall: {recall_0:.4f} | Class 1 Recall: {recall_1:.4f}')\n",
    "            print(f'{phase} AUC: {auc:.4f}')\n",
    "            print()\n",
    "            \n",
    "            # 検証フェーズでモデルを保存\n",
    "            if phase == 'val':\n",
    "                if epoch_acc > best_val_accuracy:\n",
    "                    best_val_accuracy = epoch_acc\n",
    "                    best_model_wts = copy.deepcopy(model.state_dict())\n",
    "                    epochs_without_improvement = 0\n",
    "                    torch.save(model.state_dict(), 'best_model.pth')\n",
    "                else:\n",
    "                    epochs_without_improvement += 1\n",
    "                    print(f'No improvement for {epochs_without_improvement} epochs')\n",
    "                    if epochs_without_improvement >= early_stopping_patience:\n",
    "                        print('Early stopping!')\n",
    "                        model.load_state_dict(best_model_wts)\n",
    "                        return model\n",
    "    \n",
    "    model.load_state_dict(best_model_wts)\n",
    "    return model\n",
    "\n",
    "# テスト評価関数も同様に改良\n",
    "def evaluate_model(model, test_loader):\n",
    "    model.eval()\n",
    "    all_preds = []\n",
    "    all_labels = []\n",
    "    all_probs = []\n",
    "    \n",
    "    with torch.no_grad():\n",
    "        for inputs, labels in tqdm(test_loader):\n",
    "            inputs = inputs.to(device)\n",
    "            labels = labels.to(device)\n",
    "            \n",
    "            outputs = model(inputs)\n",
    "            probs = torch.sigmoid(outputs)\n",
    "            preds = probs > 0.5\n",
    "            preds = preds.squeeze().long()\n",
    "            \n",
    "            all_preds.extend(preds.cpu().numpy())\n",
    "            all_labels.extend(labels.cpu().numpy())\n",
    "            all_probs.extend(probs.cpu().numpy())\n",
    "    \n",
    "    # 精度計算\n",
    "    accuracy = accuracy_score(all_labels, all_preds)\n",
    "    cm = confusion_matrix(all_labels, all_preds)\n",
    "    recall_0 = recall_score(all_labels, all_preds, pos_label=0)\n",
    "    recall_1 = recall_score(all_labels, all_preds, pos_label=1)\n",
    "    auc = roc_auc_score(all_labels, all_probs)\n",
    "    \n",
    "    print(f'Overall Test Accuracy: {accuracy * 100:.2f}%')\n",
    "    print(f'Class 0 Recall: {recall_0 * 100:.2f}% | False Alarms: {cm[0,1]}')\n",
    "    print(f'Class 1 Recall: {recall_1 * 100:.2f}% | False Alarms: {cm[1,0]}')\n",
    "    print(f'AUC: {auc:.4f}')\n",
    "    \n",
    "    return accuracy, cm, recall_0, recall_1, auc\n",
    "\n",
    "# モデルを訓練\n",
    "model = train_model(model, criterion, optimizer, scheduler, num_epochs=30)\n",
    "\n",
    "# モデル評価\n",
    "test_accuracy, confusion_matrix, recall_0, recall_1, auc = evaluate_model(model, test_loader)"
   ]
  },
  {
   "cell_type": "code",
   "execution_count": 4,
   "id": "4f924add",
   "metadata": {},
   "outputs": [
    {
     "data": {
      "image/png": "[encoded data removed]",
      "text/plain": [
       "<Figure size 800x600 with 2 Axes>"
      ]
     },
     "metadata": {},
     "output_type": "display_data"
    },
    {
     "name": "stdout",
     "output_type": "stream",
     "text": [
      "Overall Test Accuracy: 50.02%\n",
      "Class 0 Accuracy: 100.00%\n",
      "Class 0 False Alarms: 16377\n",
      "Class 1 Accuracy: 0.00%\n",
      "Class 1 False Alarms: 0\n"
     ]
    }
   ],
   "source": [
    "import torch\n",
    "import numpy as np\n",
    "import matplotlib.pyplot as plt\n",
    "\n",
    "# 1. 予測値と正解ラベルの収集\n",
    "model.eval()\n",
    "all_labels = []\n",
    "all_preds = []\n",
    "\n",
    "with torch.no_grad():\n",
    "    for images, labels in test_loader:\n",
    "        images = images.to(device)\n",
    "        labels = labels.to(device)\n",
    "        \n",
    "        outputs = model(images)\n",
    "        _, preds = torch.max(outputs, 1)\n",
    "        \n",
    "        all_labels.extend(labels.cpu().numpy())\n",
    "        all_preds.extend(preds.cpu().numpy())\n",
    "\n",
    "# 2. 混同行列を手動で計算する関数\n",
    "def plot_confusion_matrix(true_labels, pred_labels, classes):\n",
    "    \"\"\"\n",
    "    手動で混同行列を計算し可視化\n",
    "    :param true_labels: 正解ラベルのリスト\n",
    "    :param pred_labels: 予測ラベルのリスト\n",
    "    :param classes: クラス名のリスト（例: ['Normal', 'Tumor']）\n",
    "    \"\"\"\n",
    "    n_classes = len(classes)\n",
    "    cm = np.zeros((n_classes, n_classes), dtype=int)\n",
    "    \n",
    "    for t, p in zip(true_labels, pred_labels):\n",
    "        cm[t, p] += 1\n",
    "    \n",
    "    # 可視化\n",
    "    plt.figure(figsize=(8, 6))\n",
    "    plt.imshow(cm, interpolation='nearest', cmap=plt.cm.Blues)\n",
    "    plt.title(\"Confusion Matrix\")\n",
    "    plt.colorbar()\n",
    "    \n",
    "    tick_marks = np.arange(n_classes)\n",
    "    plt.xticks(tick_marks, classes, rotation=45)\n",
    "    plt.yticks(tick_marks, classes)\n",
    "    \n",
    "    plt.xlabel('Predicted Label')\n",
    "    plt.ylabel('True Label')\n",
    "    \n",
    "    # セル内に数値を表示\n",
    "    thresh = cm.max() / 2.\n",
    "    for i in range(n_classes):\n",
    "        for j in range(n_classes):\n",
    "            plt.text(j, i, format(cm[i, j], 'd'),\n",
    "                    horizontalalignment=\"center\",\n",
    "                    color=\"white\" if cm[i, j] > thresh else \"black\")\n",
    "    \n",
    "    plt.tight_layout()\n",
    "    plt.show()\n",
    "    \n",
    "    return cm\n",
    "\n",
    "# 3. 混同行列の表示\n",
    "classes = ['Class 0', 'Class 1']  # 実際のクラス名に変更\n",
    "cm = plot_confusion_matrix(all_labels, all_preds, classes)\n",
    "\n",
    "# 4. 精度レポート\n",
    "test_acc = 100 * np.sum(np.diag(cm)) / np.sum(cm)\n",
    "print(f\"Overall Test Accuracy: {test_acc:.2f}%\")\n",
    "\n",
    "for i, class_name in enumerate(classes):\n",
    "    accuracy = 100 * cm[i,i] / np.sum(cm[i])\n",
    "    print(f\"{class_name} Accuracy: {accuracy:.2f}%\")\n",
    "    print(f\"{class_name} False Alarms: {np.sum(cm[:,i]) - cm[i,i]}\")"
   ]
  }
 ],
 "metadata": {
  "kernelspec": {
   "display_name": "myenv",
   "language": "python",
   "name": "python3"
  },
  "language_info": {
   "codemirror_mode": {
    "name": "ipython",
    "version": 3
   },
   "file_extension": ".py",
   "mimetype": "text/x-python",
   "name": "python",
   "nbconvert_exporter": "python",
   "pygments_lexer": "ipython3",
   "version": "3.11.11"
  }
 },
 "nbformat": 4,
 "nbformat_minor": 5
}
