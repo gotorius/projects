{
 "cells": [
  {
   "cell_type": "code",
   "execution_count": null,
   "id": "ff3f3c48",
   "metadata": {},
   "outputs": [],
   "source": [
    "# 必要なライブラリのインポート\n",
    "import torch\n",
    "import torch.nn as nn\n",
    "import torchvision\n",
    "import torchvision.transforms as transforms\n",
    "import matplotlib.pyplot as plt\n",
    "from tqdm import tqdm\n",
    "\n",
    "# デバイス設定\n",
    "device = torch.device('cuda' if torch.cuda.is_available() else 'cpu')\n",
    "\n",
    "# ImageNet用のデータ前処理\n",
    "imagenet_transform = transforms.Compose([\n",
    "    transforms.Resize(256),\n",
    "    transforms.CenterCrop(224),\n",
    "    transforms.ToTensor(),\n",
    "    transforms.Normalize(mean=[0.485, 0.456, 0.406], std=[0.229, 0.224, 0.225])\n",
    "])\n",
    "\n",
    "# ImageNetデータセットのパス（例: '/path/to/imagenet/val'）\n",
    "imagenet_val_path = '/path/to/imagenet/val'  # 適宜変更してください\n",
    "\n",
    "# 評価用データセットのロード\n",
    "valset = torchvision.datasets.ImageFolder(root=imagenet_val_path, transform=imagenet_transform)\n",
    "valloader = torch.utils.data.DataLoader(valset, batch_size=128, shuffle=False)\n",
    "\n",
    "# ResNet50モデルの定義（ImageNet用）\n",
    "model = torchvision.models.resnet50(pretrained=True)\n",
    "model = model.to(device)\n",
    "\n",
    "# 評価モードに設定\n",
    "model.eval()\n",
    "correct = 0\n",
    "total = 0\n",
    "with torch.no_grad():\n",
    "    val_bar = tqdm(valloader, desc='Evaluating ImageNet')\n",
    "    for images, labels in val_bar:\n",
    "        images, labels = images.to(device), labels.to(device)\n",
    "        outputs = model(images)\n",
    "        _, predicted = torch.max(outputs, 1)\n",
    "        correct += (predicted == labels).sum().item()\n",
    "        total += labels.size(0)\n",
    "accuracy = correct / total\n",
    "print(f'ImageNet Validation Accuracy: {accuracy*100:.2f}%')"
   ]
  },
  {
   "cell_type": "code",
   "execution_count": null,
   "id": "4165b5d8",
   "metadata": {},
   "outputs": [
    {
     "ename": "",
     "evalue": "",
     "output_type": "error",
     "traceback": [
      "\u001b[1;31m'Python 3.10.12' でセルを実行するには、 ipykernel パッケージが必要です。\n",
      "\u001b[1;31m'ipykernel' を Python 環境にインストールします。\n",
      "\u001b[1;31mコマンド: '/bin/python3 -m pip install ipykernel -U --user --force-reinstall'"
     ]
    }
   ],
   "source": [
    "# kagglehubでImageNet-256データセットをダウンロード\n",
    "import kagglehub\n",
    "\n",
    "# 最新バージョンをダウンロード\n",
    "dataset_path = kagglehub.dataset_download(\"dimensi0n/imagenet-256\")\n",
    "print(\"Path to dataset files:\", dataset_path)\n",
    "\n",
    "# torchvisionでデータセットを利用\n",
    "from torchvision.datasets import ImageFolder\n",
    "imagenet_val_path = dataset_path  # 取得したパスをそのまま使う\n",
    "valset = ImageFolder(root=imagenet_val_path, transform=imagenet_transform)\n",
    "valloader = torch.utils.data.DataLoader(valset, batch_size=128, shuffle=False)"
   ]
  }
 ],
 "metadata": {
  "kernelspec": {
   "display_name": "Python 3",
   "language": "python",
   "name": "python3"
  },
  "language_info": {
   "codemirror_mode": {
    "name": "ipython",
    "version": 3
   },
   "file_extension": ".py",
   "mimetype": "text/x-python",
   "name": "python",
   "nbconvert_exporter": "python",
   "pygments_lexer": "ipython3",
   "version": "3.10.12"
  }
 },
 "nbformat": 4,
 "nbformat_minor": 5
}
