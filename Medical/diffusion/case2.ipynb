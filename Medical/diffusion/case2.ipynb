{
 "cells": [
  {
   "cell_type": "code",
   "execution_count": null,
   "id": "fa4e67a9",
   "metadata": {},
   "outputs": [
    {
     "name": "stderr",
     "output_type": "stream",
     "text": [
      "Epoch 1/20: 100%|██████████| 391/391 [02:06<00:00,  3.09it/s, loss=1.29]\n",
      "\n"
     ]
    },
    {
     "name": "stdout",
     "output_type": "stream",
     "text": [
      "Epoch 1: Loss=1.6527, Train Accuracy=40.07%\n",
      "Test Accuracy: 50.90%\n",
      "Test Accuracy: 50.90%\n",
      "Best model saved!\n",
      "Best model saved!\n"
     ]
    },
    {
     "name": "stderr",
     "output_type": "stream",
     "text": [
      "Epoch 2/20: 100%|██████████| 391/391 [02:07<00:00,  3.08it/s, loss=1.13] \n",
      "\n"
     ]
    },
    {
     "name": "stdout",
     "output_type": "stream",
     "text": [
      "Epoch 2: Loss=1.1008, Train Accuracy=60.57%\n",
      "Test Accuracy: 62.90%\n",
      "Test Accuracy: 62.90%\n",
      "Best model saved!\n",
      "Best model saved!\n"
     ]
    },
    {
     "name": "stderr",
     "output_type": "stream",
     "text": [
      "Epoch 3/20: 100%|██████████| 391/391 [02:06<00:00,  3.08it/s, loss=0.795]\n",
      "\n"
     ]
    },
    {
     "name": "stdout",
     "output_type": "stream",
     "text": [
      "Epoch 3: Loss=0.8710, Train Accuracy=69.49%\n",
      "Test Accuracy: 65.91%\n",
      "Test Accuracy: 65.91%\n",
      "Best model saved!\n",
      "Best model saved!\n"
     ]
    },
    {
     "name": "stderr",
     "output_type": "stream",
     "text": [
      "Epoch 4/20: 100%|██████████| 391/391 [02:07<00:00,  3.07it/s, loss=0.778]\n",
      "\n"
     ]
    },
    {
     "name": "stdout",
     "output_type": "stream",
     "text": [
      "Epoch 4: Loss=0.7364, Train Accuracy=74.42%\n",
      "Test Accuracy: 67.28%\n",
      "Test Accuracy: 67.28%\n",
      "Best model saved!\n",
      "Best model saved!\n"
     ]
    },
    {
     "name": "stderr",
     "output_type": "stream",
     "text": [
      "Epoch 5/20: 100%|██████████| 391/391 [02:07<00:00,  3.07it/s, loss=0.651]\n",
      "\n"
     ]
    },
    {
     "name": "stdout",
     "output_type": "stream",
     "text": [
      "Epoch 5: Loss=0.6480, Train Accuracy=77.47%\n",
      "Test Accuracy: 75.76%\n",
      "Test Accuracy: 75.76%\n",
      "Best model saved!\n",
      "Best model saved!\n"
     ]
    },
    {
     "name": "stderr",
     "output_type": "stream",
     "text": [
      "Epoch 6/20: 100%|██████████| 391/391 [02:07<00:00,  3.07it/s, loss=0.674]\n",
      "\n"
     ]
    },
    {
     "name": "stdout",
     "output_type": "stream",
     "text": [
      "Epoch 6: Loss=0.5920, Train Accuracy=79.67%\n",
      "Test Accuracy: 75.77%\n",
      "Test Accuracy: 75.77%\n",
      "Best model saved!\n",
      "Best model saved!\n"
     ]
    },
    {
     "name": "stderr",
     "output_type": "stream",
     "text": [
      "Epoch 7/20: 100%|██████████| 391/391 [02:07<00:00,  3.07it/s, loss=0.795]\n",
      "\n"
     ]
    },
    {
     "name": "stdout",
     "output_type": "stream",
     "text": [
      "Epoch 7: Loss=0.5509, Train Accuracy=80.89%\n",
      "Test Accuracy: 73.33%\n",
      "Test Accuracy: 73.33%\n"
     ]
    },
    {
     "name": "stderr",
     "output_type": "stream",
     "text": [
      "Epoch 8/20: 100%|██████████| 391/391 [02:07<00:00,  3.08it/s, loss=0.476]\n",
      "\n"
     ]
    },
    {
     "name": "stdout",
     "output_type": "stream",
     "text": [
      "Epoch 8: Loss=0.5187, Train Accuracy=82.28%\n",
      "Test Accuracy: 78.44%\n",
      "Test Accuracy: 78.44%\n",
      "Best model saved!\n",
      "Best model saved!\n"
     ]
    },
    {
     "name": "stderr",
     "output_type": "stream",
     "text": [
      "Epoch 9/20: 100%|██████████| 391/391 [02:14<00:00,  2.91it/s, loss=0.489]\n",
      "\n"
     ]
    },
    {
     "name": "stdout",
     "output_type": "stream",
     "text": [
      "Epoch 9: Loss=0.4907, Train Accuracy=83.25%\n",
      "Test Accuracy: 78.00%\n",
      "Test Accuracy: 78.00%\n"
     ]
    },
    {
     "name": "stderr",
     "output_type": "stream",
     "text": [
      "Epoch 10/20: 100%|██████████| 391/391 [02:49<00:00,  2.31it/s, loss=0.378]\n",
      "\n"
     ]
    },
    {
     "name": "stdout",
     "output_type": "stream",
     "text": [
      "Epoch 10: Loss=0.4681, Train Accuracy=84.05%\n",
      "Test Accuracy: 81.97%\n",
      "Test Accuracy: 81.97%\n",
      "Best model saved!\n",
      "Best model saved!\n"
     ]
    },
    {
     "name": "stderr",
     "output_type": "stream",
     "text": [
      "Epoch 11/20: 100%|██████████| 391/391 [02:43<00:00,  2.39it/s, loss=0.293]\n",
      "\n"
     ]
    },
    {
     "name": "stdout",
     "output_type": "stream",
     "text": [
      "Epoch 11: Loss=0.4444, Train Accuracy=84.89%\n",
      "Test Accuracy: 82.61%\n",
      "Test Accuracy: 82.61%\n",
      "Best model saved!\n",
      "Best model saved!\n"
     ]
    },
    {
     "name": "stderr",
     "output_type": "stream",
     "text": [
      "Epoch 12/20: 100%|██████████| 391/391 [02:47<00:00,  2.33it/s, loss=0.354]\n",
      "\n"
     ]
    },
    {
     "name": "stdout",
     "output_type": "stream",
     "text": [
      "Epoch 12: Loss=0.4294, Train Accuracy=85.27%\n",
      "Test Accuracy: 83.76%\n",
      "Test Accuracy: 83.76%\n",
      "Best model saved!\n",
      "Best model saved!\n"
     ]
    },
    {
     "name": "stderr",
     "output_type": "stream",
     "text": [
      "Epoch 13/20: 100%|██████████| 391/391 [02:40<00:00,  2.44it/s, loss=0.495]\n",
      "\n"
     ]
    },
    {
     "name": "stdout",
     "output_type": "stream",
     "text": [
      "Epoch 13: Loss=0.4143, Train Accuracy=85.64%\n",
      "Test Accuracy: 83.62%\n",
      "Test Accuracy: 83.62%\n"
     ]
    },
    {
     "name": "stderr",
     "output_type": "stream",
     "text": [
      "Epoch 14/20: 100%|██████████| 391/391 [02:46<00:00,  2.35it/s, loss=0.479]\n",
      "\n"
     ]
    },
    {
     "name": "stdout",
     "output_type": "stream",
     "text": [
      "Epoch 14: Loss=0.3980, Train Accuracy=86.28%\n",
      "Test Accuracy: 83.94%\n",
      "Test Accuracy: 83.94%\n",
      "Best model saved!\n",
      "Best model saved!\n"
     ]
    },
    {
     "name": "stderr",
     "output_type": "stream",
     "text": [
      "Epoch 15/20: 100%|██████████| 391/391 [02:42<00:00,  2.40it/s, loss=0.315]\n",
      "\n"
     ]
    },
    {
     "name": "stdout",
     "output_type": "stream",
     "text": [
      "Epoch 15: Loss=0.3805, Train Accuracy=86.91%\n",
      "Test Accuracy: 82.04%\n",
      "Test Accuracy: 82.04%\n"
     ]
    },
    {
     "name": "stderr",
     "output_type": "stream",
     "text": [
      "Epoch 16/20: 100%|██████████| 391/391 [02:47<00:00,  2.33it/s, loss=0.408]\n",
      "\n"
     ]
    },
    {
     "name": "stdout",
     "output_type": "stream",
     "text": [
      "Epoch 16: Loss=0.3723, Train Accuracy=87.32%\n",
      "Test Accuracy: 83.70%\n",
      "Test Accuracy: 83.70%\n"
     ]
    },
    {
     "name": "stderr",
     "output_type": "stream",
     "text": [
      "Epoch 17/20: 100%|██████████| 391/391 [02:42<00:00,  2.40it/s, loss=0.254]\n",
      "\n"
     ]
    },
    {
     "name": "stdout",
     "output_type": "stream",
     "text": [
      "Epoch 17: Loss=0.3581, Train Accuracy=87.81%\n",
      "Test Accuracy: 83.07%\n",
      "Test Accuracy: 83.07%\n"
     ]
    },
    {
     "name": "stderr",
     "output_type": "stream",
     "text": [
      "Epoch 18/20: 100%|██████████| 391/391 [02:16<00:00,  2.86it/s, loss=0.259]\n",
      "Epoch 18/20: 100%|██████████| 391/391 [02:16<00:00,  2.86it/s, loss=0.259]\n"
     ]
    },
    {
     "name": "stdout",
     "output_type": "stream",
     "text": [
      "Epoch 18: Loss=0.3499, Train Accuracy=88.00%\n",
      "Test Accuracy: 86.35%\n",
      "Test Accuracy: 86.35%\n",
      "Best model saved!\n",
      "Best model saved!\n"
     ]
    },
    {
     "name": "stderr",
     "output_type": "stream",
     "text": [
      "Epoch 19/20: 100%|██████████| 391/391 [02:06<00:00,  3.08it/s, loss=0.439]\n",
      "\n"
     ]
    },
    {
     "name": "stdout",
     "output_type": "stream",
     "text": [
      "Epoch 19: Loss=0.3409, Train Accuracy=88.48%\n",
      "Test Accuracy: 87.08%\n",
      "Test Accuracy: 87.08%\n",
      "Best model saved!\n",
      "Best model saved!\n"
     ]
    },
    {
     "name": "stderr",
     "output_type": "stream",
     "text": [
      "Epoch 20/20: 100%|██████████| 391/391 [02:07<00:00,  3.05it/s, loss=0.347]\n",
      "\n"
     ]
    },
    {
     "name": "stdout",
     "output_type": "stream",
     "text": [
      "Epoch 20: Loss=0.3305, Train Accuracy=88.46%\n",
      "Test Accuracy: 85.03%\n",
      "Test Accuracy: 85.03%\n"
     ]
    },
    {
     "data": {
      "image/png": "[encoded data removed]",
      "text/plain": [
       "<Figure size 1000x400 with 2 Axes>"
      ]
     },
     "metadata": {},
     "output_type": "display_data"
    },
    {
     "name": "stderr",
     "output_type": "stream",
     "text": [
      "Clipping input data to the valid range for imshow with RGB data ([0..1] for floats or [0..255] for integers). Got range [-2.1770618..2.6952004].\n",
      "Clipping input data to the valid range for imshow with RGB data ([0..1] for floats or [0..255] for integers). Got range [-2.4290657..2.5976489].\n",
      "Clipping input data to the valid range for imshow with RGB data ([0..1] for floats or [0..255] for integers). Got range [-2.351526..2.6952004].\n",
      "Clipping input data to the valid range for imshow with RGB data ([0..1] for floats or [0..255] for integers). Got range [-1.7692488..2.3440151].\n",
      "Clipping input data to the valid range for imshow with RGB data ([0..1] for floats or [0..255] for integers). Got range [-2.4290657..2.5976489].\n",
      "Clipping input data to the valid range for imshow with RGB data ([0..1] for floats or [0..255] for integers). Got range [-2.351526..2.6952004].\n",
      "Clipping input data to the valid range for imshow with RGB data ([0..1] for floats or [0..255] for integers). Got range [-1.7692488..2.3440151].\n",
      "Clipping input data to the valid range for imshow with RGB data ([0..1] for floats or [0..255] for integers). Got range [-2.2933714..1.908451].\n",
      "Clipping input data to the valid range for imshow with RGB data ([0..1] for floats or [0..255] for integers). Got range [-2.2933714..1.908451].\n"
     ]
    },
    {
     "data": {
      "image/png": "[encoded data removed]",
      "text/plain": [
       "<Figure size 1200x300 with 5 Axes>"
      ]
     },
     "metadata": {},
     "output_type": "display_data"
    }
   ],
   "source": [
    "# 必要なライブラリのインポート\n",
    "import torch\n",
    "import torch.nn as nn\n",
    "import torchvision\n",
    "import torchvision.transforms as transforms\n",
    "import matplotlib.pyplot as plt\n",
    "from tqdm import tqdm  # プログレスバー追加\n",
    "\n",
    "# デバイス設定\n",
    "device = torch.device('cuda' if torch.cuda.is_available() else 'cpu')\n",
    "\n",
    "# CIFAR-10データセットのロード（データ拡張を追加）\n",
    "# データ拡張（学習用）\n",
    "train_transform = transforms.Compose([\n",
    "    transforms.RandomCrop(32, padding=4),   # 32x32にランダムクロップ\n",
    "    transforms.RandomHorizontalFlip(),      # 左右反転\n",
    "    transforms.ColorJitter(0.2, 0.2, 0.2, 0.1), # 色の変化\n",
    "    transforms.ToTensor(),\n",
    "    transforms.Normalize((0.4914, 0.4822, 0.4465),\n",
    "                         (0.2023, 0.1994, 0.2010)) # CIFAR-10 の平均・分散で標準化\n",
    "])\n",
    "\n",
    "# 評価用（拡張なし）\n",
    "test_transform = transforms.Compose([\n",
    "    transforms.ToTensor(),\n",
    "    transforms.Normalize((0.4914, 0.4822, 0.4465),\n",
    "                         (0.2023, 0.1994, 0.2010))\n",
    "])\n",
    "trainset = torchvision.datasets.CIFAR10(root='./data', train=True, download=False, transform=train_transform)\n",
    "testset = torchvision.datasets.CIFAR10(root='./data', train=False, download=False, transform=test_transform)\n",
    "trainloader = torch.utils.data.DataLoader(trainset, batch_size=128, shuffle=True)\n",
    "testloader = torch.utils.data.DataLoader(testset, batch_size=128, shuffle=False)\n",
    "\n",
    "# ResNet50モデルの定義（CIFAR-10用に修正）\n",
    "model = torchvision.models.resnet50(num_classes=10)\n",
    "model.conv1 = nn.Conv2d(3, 64, kernel_size=3, stride=1, padding=1, bias=False)\n",
    "model.maxpool = nn.Identity()\n",
    "model = model.to(device)\n",
    "\n",
    "# 損失関数と最適化手法（Weight Decay追加）\n",
    "criterion = nn.CrossEntropyLoss()\n",
    "optimizer = torch.optim.Adam(model.parameters(), lr=0.001, weight_decay=1e-4)\n",
    "\n",
    "# エポック数を増やして精度向上\n",
    "num_epochs = 20\n",
    "train_losses = []\n",
    "train_accuracies = []\n",
    "best_acc = 0.0  # 最良精度の記録\n",
    "for epoch in range(num_epochs):\n",
    "    model.train()\n",
    "    running_loss = 0.0\n",
    "    correct = 0\n",
    "    total = 0\n",
    "    train_bar = tqdm(trainloader, desc=f'Epoch {epoch+1}/{num_epochs}')\n",
    "    for images, labels in train_bar:\n",
    "        images, labels = images.to(device), labels.to(device)\n",
    "        optimizer.zero_grad()\n",
    "        outputs = model(images)\n",
    "        loss = criterion(outputs, labels)\n",
    "        loss.backward()\n",
    "        optimizer.step()\n",
    "        running_loss += loss.item() * images.size(0)\n",
    "        _, predicted = torch.max(outputs, 1)\n",
    "        correct += (predicted == labels).sum().item()\n",
    "        total += labels.size(0)\n",
    "        train_bar.set_postfix(loss=loss.item())\n",
    "    epoch_loss = running_loss / len(trainset)\n",
    "    epoch_acc = correct / total\n",
    "    train_losses.append(epoch_loss)\n",
    "    train_accuracies.append(epoch_acc)\n",
    "    print(f'Epoch {epoch+1}: Loss={epoch_loss:.4f}, Train Accuracy={epoch_acc*100:.2f}%')\n",
    "    # テスト精度の計算\n",
    "    model.eval()\n",
    "    correct = 0\n",
    "    total = 0\n",
    "    with torch.no_grad():\n",
    "        for images, labels in testloader:\n",
    "            images, labels = images.to(device), labels.to(device)\n",
    "            outputs = model(images)\n",
    "            _, predicted = torch.max(outputs, 1)\n",
    "            correct += (predicted == labels).sum().item()\n",
    "            total += labels.size(0)\n",
    "    test_accuracy = correct / total\n",
    "    print(f'Test Accuracy: {test_accuracy*100:.2f}%')\n",
    "    # 最良モデルの保存\n",
    "    if test_accuracy > best_acc:\n",
    "        best_acc = test_accuracy\n",
    "        torch.save(model.state_dict(), 'best_resnet50_cifar10.pth')\n",
    "        print('Best model saved!')\n",
    "\n",
    "# エポックごとのlossと精度のグラフ\n",
    "epochs = range(1, num_epochs+1)\n",
    "plt.figure(figsize=(10,4))\n",
    "plt.subplot(1,2,1)\n",
    "plt.plot(epochs, train_losses, marker='o')\n",
    "plt.title('Train Loss per Epoch')\n",
    "plt.xlabel('Epoch')\n",
    "plt.ylabel('Loss')\n",
    "plt.grid(True)\n",
    "\n",
    "plt.subplot(1,2,2)\n",
    "plt.plot(epochs, [x*100 for x in train_accuracies], marker='o')\n",
    "plt.title('Train Accuracy per Epoch')\n",
    "plt.xlabel('Epoch')\n",
    "plt.ylabel('Accuracy (%)')\n",
    "plt.grid(True)\n",
    "\n",
    "plt.tight_layout()\n",
    "plt.show()\n",
    "\n",
    "# テスト画像の一部を表示\n",
    "import numpy as np\n",
    "classes = trainset.classes\n",
    "images, labels = next(iter(testloader))\n",
    "fig, axes = plt.subplots(1, 5, figsize=(12, 3))\n",
    "for i in range(5):\n",
    "    img = images[i].permute(1, 2, 0).numpy()\n",
    "    axes[i].imshow(img)\n",
    "    axes[i].set_title(classes[labels[i]])\n",
    "    axes[i].axis('off')\n",
    "plt.show()"
   ]
  },
  {
   "cell_type": "code",
   "execution_count": null,
   "id": "cab05c56",
   "metadata": {},
   "outputs": [],
   "source": []
  }
 ],
 "metadata": {
  "kernelspec": {
   "display_name": "Python (myenv)",
   "language": "python",
   "name": "myenv"
  },
  "language_info": {
   "codemirror_mode": {
    "name": "ipython",
    "version": 3
   },
   "file_extension": ".py",
   "mimetype": "text/x-python",
   "name": "python",
   "nbconvert_exporter": "python",
   "pygments_lexer": "ipython3",
   "version": "3.11.11"
  }
 },
 "nbformat": 4,
 "nbformat_minor": 5
}
