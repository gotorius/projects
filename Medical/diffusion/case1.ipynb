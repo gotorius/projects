{
 "cells": [
  {
   "cell_type": "code",
   "execution_count": 3,
   "id": "29cdd65f",
   "metadata": {},
   "outputs": [
    {
     "name": "stdout",
     "output_type": "stream",
     "text": [
      "Clean Test Accuracy: 10.00%\n"
     ]
    },
    {
     "name": "stderr",
     "output_type": "stream",
     "text": [
      "FGSM: 100%|██████████| 157/157 [00:04<00:00, 31.48it/s]\n"
     ]
    },
    {
     "name": "stdout",
     "output_type": "stream",
     "text": [
      "Adversarial Test Accuracy: 10.00%\n"
     ]
    },
    {
     "name": "stderr",
     "output_type": "stream",
     "text": [
      "ScoreSDE Denoising: 100%|██████████| 79/79 [00:00<00:00, 679.02it/s]\n"
     ]
    },
    {
     "name": "stdout",
     "output_type": "stream",
     "text": [
      "Denoised Test Accuracy: 10.00%\n"
     ]
    },
    {
     "data": {
      "image/png": "[encoded data removed]",
      "text/plain": [
       "<Figure size 640x480 with 1 Axes>"
      ]
     },
     "metadata": {},
     "output_type": "display_data"
    }
   ],
   "source": [
    "# 必要なライブラリ\n",
    "import torch\n",
    "import torch.nn as nn\n",
    "import torch.optim as optim\n",
    "import torchvision\n",
    "import torchvision.transforms as transforms\n",
    "import numpy as np\n",
    "import matplotlib.pyplot as plt\n",
    "from tqdm import tqdm\n",
    "\n",
    "# CIFAR-10データセットロード\n",
    "transform = transforms.Compose([\n",
    "    transforms.ToTensor(),\n",
    "])\n",
    "trainset = torchvision.datasets.CIFAR10(root='./data', train=True, download=True, transform=transform)\n",
    "testset = torchvision.datasets.CIFAR10(root='./data', train=False, download=True, transform=transform)\n",
    "trainloader = torch.utils.data.DataLoader(trainset, batch_size=64, shuffle=True)\n",
    "testloader = torch.utils.data.DataLoader(testset, batch_size=64, shuffle=False)\n",
    "\n",
    "# 分類器（ResNet18）\n",
    "model = torchvision.models.resnet18(num_classes=10)\n",
    "model.conv1 = nn.Conv2d(3, 64, kernel_size=3, stride=1, padding=1, bias=False)\n",
    "model.maxpool = nn.Identity()\n",
    "device = torch.device('cuda' if torch.cuda.is_available() else 'cpu')\n",
    "model = model.to(device)\n",
    "\n",
    "# 学習済みモデルのロード（ここでは未学習のまま。実際は学習済み重みをロードしてください）\n",
    "# model.load_state_dict(torch.load('resnet18_cifar10.pth'))\n",
    "model.eval()\n",
    "\n",
    "# 精度計算関数\n",
    "def test_accuracy(model, loader):\n",
    "    correct = 0\n",
    "    total = 0\n",
    "    with torch.no_grad():\n",
    "        for images, labels in loader:\n",
    "            images, labels = images.to(device), labels.to(device)\n",
    "            outputs = model(images)\n",
    "            _, predicted = torch.max(outputs, 1)\n",
    "            correct += (predicted == labels).sum().item()\n",
    "            total += labels.size(0)\n",
    "    return correct / total\n",
    "\n",
    "# 1. 通常画像で分類精度\n",
    "acc_clean = test_accuracy(model, testloader)\n",
    "print(f'Clean Test Accuracy: {acc_clean*100:.2f}%')\n",
    "\n",
    "# 2. 敵対的攻撃（FGSM）\n",
    "def fgsm_attack(image, epsilon, data_grad):\n",
    "    sign_data_grad = data_grad.sign()\n",
    "    perturbed_image = image + epsilon*sign_data_grad\n",
    "    perturbed_image = torch.clamp(perturbed_image, 0, 1)\n",
    "    return perturbed_image\n",
    "\n",
    "def make_adversarial_loader(model, loader, epsilon=0.03):\n",
    "    adv_images = []\n",
    "    adv_labels = []\n",
    "    loss_fn = nn.CrossEntropyLoss()\n",
    "    model.eval()\n",
    "    for images, labels in tqdm(loader, desc='FGSM'):\n",
    "        images, labels = images.to(device), labels.to(device)\n",
    "        images.requires_grad = True\n",
    "        outputs = model(images)\n",
    "        loss = loss_fn(outputs, labels)\n",
    "        model.zero_grad()\n",
    "        loss.backward()\n",
    "        data_grad = images.grad.data\n",
    "        adv = fgsm_attack(images, epsilon, data_grad)\n",
    "        adv_images.append(adv.detach().cpu())\n",
    "        adv_labels.append(labels.detach().cpu())\n",
    "    adv_images = torch.cat(adv_images)\n",
    "    adv_labels = torch.cat(adv_labels)\n",
    "    adv_dataset = torch.utils.data.TensorDataset(adv_images, adv_labels)\n",
    "    adv_loader = torch.utils.data.DataLoader(adv_dataset, batch_size=128, shuffle=False)\n",
    "    return adv_loader\n",
    "\n",
    "adv_testloader = make_adversarial_loader(model, testloader, epsilon=0.03)\n",
    "acc_adv = test_accuracy(model, adv_testloader)\n",
    "print(f'Adversarial Test Accuracy: {acc_adv*100:.2f}%')\n",
    "\n",
    "# 3. ScoreSDEによる浄化（ダミー関数。実際は事前学習済みScoreSDEモデルを使う）\n",
    "def scoresde_denoise(images):\n",
    "    # 本来は拡散モデルでdenoising\n",
    "    # ここではダミーで元画像を返す\n",
    "    return images\n",
    "\n",
    "def make_denoised_loader(adv_loader):\n",
    "    denoised_images = []\n",
    "    denoised_labels = []\n",
    "    for images, labels in tqdm(adv_loader, desc='ScoreSDE Denoising'):\n",
    "        images = scoresde_denoise(images)\n",
    "        denoised_images.append(images)\n",
    "        denoised_labels.append(labels)\n",
    "    denoised_images = torch.cat(denoised_images)\n",
    "    denoised_labels = torch.cat(denoised_labels)\n",
    "    denoised_dataset = torch.utils.data.TensorDataset(denoised_images, denoised_labels)\n",
    "    denoised_loader = torch.utils.data.DataLoader(denoised_dataset, batch_size=128, shuffle=False)\n",
    "    return denoised_loader\n",
    "\n",
    "denoised_testloader = make_denoised_loader(adv_testloader)\n",
    "acc_denoised = test_accuracy(model, denoised_testloader)\n",
    "print(f'Denoised Test Accuracy: {acc_denoised*100:.2f}%')\n",
    "\n",
    "# 4. 精度比較\n",
    "data = ['Clean', 'Adversarial', 'Denoised']\n",
    "accs = [acc_clean*100, acc_adv*100, acc_denoised*100]\n",
    "plt.bar(data, accs)\n",
    "plt.ylabel('Accuracy (%)')\n",
    "plt.title('Classification Accuracy Comparison')\n",
    "plt.show()"
   ]
  },
  {
   "cell_type": "code",
   "execution_count": 4,
   "id": "62be461e",
   "metadata": {},
   "outputs": [
    {
     "name": "stdout",
     "output_type": "stream",
     "text": [
      "Clean Test Accuracy: 10.00%\n"
     ]
    },
    {
     "name": "stderr",
     "output_type": "stream",
     "text": [
      "FGSM: 100%|██████████| 79/79 [00:12<00:00,  6.48it/s]\n"
     ]
    },
    {
     "name": "stdout",
     "output_type": "stream",
     "text": [
      "Adversarial Test Accuracy: 9.99%\n"
     ]
    },
    {
     "name": "stderr",
     "output_type": "stream",
     "text": [
      "ScoreSDE Denoising: 100%|██████████| 79/79 [00:00<00:00, 659.93it/s]\n"
     ]
    },
    {
     "name": "stdout",
     "output_type": "stream",
     "text": [
      "Denoised Test Accuracy: 9.99%\n"
     ]
    },
    {
     "data": {
      "image/png": "[encoded data removed]",
      "text/plain": [
       "<Figure size 640x480 with 1 Axes>"
      ]
     },
     "metadata": {},
     "output_type": "display_data"
    }
   ],
   "source": [
    "# ResNet50でCIFAR-10分類・敵対的攻撃・ScoreSDE浄化・精度比較\n",
    "import torch\n",
    "import torch.nn as nn\n",
    "import torch.optim as optim\n",
    "import torchvision\n",
    "import torchvision.transforms as transforms\n",
    "import numpy as np\n",
    "import matplotlib.pyplot as plt\n",
    "from tqdm import tqdm\n",
    "\n",
    "# CIFAR-10データセットロード\n",
    "transform = transforms.Compose([\n",
    "    transforms.ToTensor(),\n",
    "])\n",
    "trainset = torchvision.datasets.CIFAR10(root='./data', train=True, download=True, transform=transform)\n",
    "testset = torchvision.datasets.CIFAR10(root='./data', train=False, download=True, transform=transform)\n",
    "trainloader = torch.utils.data.DataLoader(trainset, batch_size=128, shuffle=True)\n",
    "testloader = torch.utils.data.DataLoader(testset, batch_size=128, shuffle=False)\n",
    "\n",
    "# 分類器（ResNet50）\n",
    "model = torchvision.models.resnet50(num_classes=10)\n",
    "model.conv1 = nn.Conv2d(3, 64, kernel_size=3, stride=1, padding=1, bias=False)\n",
    "model.maxpool = nn.Identity()\n",
    "device = torch.device('cuda' if torch.cuda.is_available() else 'cpu')\n",
    "model = model.to(device)\n",
    "\n",
    "# 学習済みモデルのロード（ここでは未学習のまま。実際は学習済み重みをロードしてください）\n",
    "# model.load_state_dict(torch.load('resnet50_cifar10.pth'))\n",
    "model.eval()\n",
    "\n",
    "# 精度計算関数\n",
    "def test_accuracy(model, loader):\n",
    "    correct = 0\n",
    "    total = 0\n",
    "    with torch.no_grad():\n",
    "        for images, labels in loader:\n",
    "            images, labels = images.to(device), labels.to(device)\n",
    "            outputs = model(images)\n",
    "            _, predicted = torch.max(outputs, 1)\n",
    "            correct += (predicted == labels).sum().item()\n",
    "            total += labels.size(0)\n",
    "    return correct / total\n",
    "\n",
    "# 1. 通常画像で分類精度\n",
    "acc_clean = test_accuracy(model, testloader)\n",
    "print(f'Clean Test Accuracy: {acc_clean*100:.2f}%')\n",
    "\n",
    "# 2. 敵対的攻撃（FGSM）\n",
    "def fgsm_attack(image, epsilon, data_grad):\n",
    "    sign_data_grad = data_grad.sign()\n",
    "    perturbed_image = image + epsilon*sign_data_grad\n",
    "    perturbed_image = torch.clamp(perturbed_image, 0, 1)\n",
    "    return perturbed_image\n",
    "\n",
    "def make_adversarial_loader(model, loader, epsilon=0.03):\n",
    "    adv_images = []\n",
    "    adv_labels = []\n",
    "    loss_fn = nn.CrossEntropyLoss()\n",
    "    model.eval()\n",
    "    for images, labels in tqdm(loader, desc='FGSM'):\n",
    "        images, labels = images.to(device), labels.to(device)\n",
    "        images.requires_grad = True\n",
    "        outputs = model(images)\n",
    "        loss = loss_fn(outputs, labels)\n",
    "        model.zero_grad()\n",
    "        loss.backward()\n",
    "        data_grad = images.grad.data\n",
    "        adv = fgsm_attack(images, epsilon, data_grad)\n",
    "        adv_images.append(adv.detach().cpu())\n",
    "        adv_labels.append(labels.detach().cpu())\n",
    "    adv_images = torch.cat(adv_images)\n",
    "    adv_labels = torch.cat(adv_labels)\n",
    "    adv_dataset = torch.utils.data.TensorDataset(adv_images, adv_labels)\n",
    "    adv_loader = torch.utils.data.DataLoader(adv_dataset, batch_size=128, shuffle=False)\n",
    "    return adv_loader\n",
    "\n",
    "adv_testloader = make_adversarial_loader(model, testloader, epsilon=0.03)\n",
    "acc_adv = test_accuracy(model, adv_testloader)\n",
    "print(f'Adversarial Test Accuracy: {acc_adv*100:.2f}%')\n",
    "\n",
    "# 3. ScoreSDEによる浄化（ダミー関数。実際は事前学習済みScoreSDEモデルを使う）\n",
    "def scoresde_denoise(images):\n",
    "    # 本来は拡散モデルでdenoising\n",
    "    # ここではダミーで元画像を返す\n",
    "    return images\n",
    "\n",
    "def make_denoised_loader(adv_loader):\n",
    "    denoised_images = []\n",
    "    denoised_labels = []\n",
    "    for images, labels in tqdm(adv_loader, desc='ScoreSDE Denoising'):\n",
    "        images = scoresde_denoise(images)\n",
    "        denoised_images.append(images)\n",
    "        denoised_labels.append(labels)\n",
    "    denoised_images = torch.cat(denoised_images)\n",
    "    denoised_labels = torch.cat(denoised_labels)\n",
    "    denoised_dataset = torch.utils.data.TensorDataset(denoised_images, denoised_labels)\n",
    "    denoised_loader = torch.utils.data.DataLoader(denoised_dataset, batch_size=128, shuffle=False)\n",
    "    return denoised_loader\n",
    "\n",
    "denoised_testloader = make_denoised_loader(adv_testloader)\n",
    "acc_denoised = test_accuracy(model, denoised_testloader)\n",
    "print(f'Denoised Test Accuracy: {acc_denoised*100:.2f}%')\n",
    "\n",
    "# 4. 精度比較\n",
    "data = ['Clean', 'Adversarial', 'Denoised']\n",
    "accs = [acc_clean*100, acc_adv*100, acc_denoised*100]\n",
    "plt.bar(data, accs)\n",
    "plt.ylabel('Accuracy (%)')\n",
    "plt.title('Classification Accuracy Comparison (ResNet50)')\n",
    "plt.show()"
   ]
  },
  {
   "cell_type": "code",
   "execution_count": 5,
   "id": "92f5549c",
   "metadata": {},
   "outputs": [
    {
     "name": "stderr",
     "output_type": "stream",
     "text": [
      "/tmp/ipykernel_119130/2185873872.py:32: UserWarning: Glyph 25915 (\\N{CJK UNIFIED IDEOGRAPH-653B}) missing from font(s) DejaVu Sans.\n",
      "  plt.tight_layout()\n",
      "/tmp/ipykernel_119130/2185873872.py:32: UserWarning: Glyph 25731 (\\N{CJK UNIFIED IDEOGRAPH-6483}) missing from font(s) DejaVu Sans.\n",
      "  plt.tight_layout()\n",
      "/tmp/ipykernel_119130/2185873872.py:32: UserWarning: Glyph 21069 (\\N{CJK UNIFIED IDEOGRAPH-524D}) missing from font(s) DejaVu Sans.\n",
      "  plt.tight_layout()\n",
      "/tmp/ipykernel_119130/2185873872.py:32: UserWarning: Glyph 24460 (\\N{CJK UNIFIED IDEOGRAPH-5F8C}) missing from font(s) DejaVu Sans.\n",
      "  plt.tight_layout()\n",
      "/tmp/ipykernel_119130/2185873872.py:32: UserWarning: Glyph 38450 (\\N{CJK UNIFIED IDEOGRAPH-9632}) missing from font(s) DejaVu Sans.\n",
      "  plt.tight_layout()\n",
      "/tmp/ipykernel_119130/2185873872.py:32: UserWarning: Glyph 24481 (\\N{CJK UNIFIED IDEOGRAPH-5FA1}) missing from font(s) DejaVu Sans.\n",
      "  plt.tight_layout()\n",
      "/home/gotou/miniconda3/envs/env/lib/python3.10/site-packages/IPython/core/pylabtools.py:170: UserWarning: Glyph 25915 (\\N{CJK UNIFIED IDEOGRAPH-653B}) missing from font(s) DejaVu Sans.\n",
      "  fig.canvas.print_figure(bytes_io, **kw)\n",
      "/home/gotou/miniconda3/envs/env/lib/python3.10/site-packages/IPython/core/pylabtools.py:170: UserWarning: Glyph 25731 (\\N{CJK UNIFIED IDEOGRAPH-6483}) missing from font(s) DejaVu Sans.\n",
      "  fig.canvas.print_figure(bytes_io, **kw)\n",
      "/home/gotou/miniconda3/envs/env/lib/python3.10/site-packages/IPython/core/pylabtools.py:170: UserWarning: Glyph 21069 (\\N{CJK UNIFIED IDEOGRAPH-524D}) missing from font(s) DejaVu Sans.\n",
      "  fig.canvas.print_figure(bytes_io, **kw)\n",
      "/home/gotou/miniconda3/envs/env/lib/python3.10/site-packages/IPython/core/pylabtools.py:170: UserWarning: Glyph 24460 (\\N{CJK UNIFIED IDEOGRAPH-5F8C}) missing from font(s) DejaVu Sans.\n",
      "  fig.canvas.print_figure(bytes_io, **kw)\n",
      "/home/gotou/miniconda3/envs/env/lib/python3.10/site-packages/IPython/core/pylabtools.py:170: UserWarning: Glyph 38450 (\\N{CJK UNIFIED IDEOGRAPH-9632}) missing from font(s) DejaVu Sans.\n",
      "  fig.canvas.print_figure(bytes_io, **kw)\n",
      "/home/gotou/miniconda3/envs/env/lib/python3.10/site-packages/IPython/core/pylabtools.py:170: UserWarning: Glyph 24481 (\\N{CJK UNIFIED IDEOGRAPH-5FA1}) missing from font(s) DejaVu Sans.\n",
      "  fig.canvas.print_figure(bytes_io, **kw)\n"
     ]
    },
    {
     "data": {
      "image/png": "[encoded data removed]",
      "text/plain": [
       "<Figure size 1200x400 with 3 Axes>"
      ]
     },
     "metadata": {},
     "output_type": "display_data"
    }
   ],
   "source": [
    "# 攻撃前・攻撃後・防御後の画像を表示\n",
    "import matplotlib.pyplot as plt\n",
    "\n",
    "# 攻撃前（元画像）\n",
    "images, labels = next(iter(testloader))\n",
    "img_clean = images[0].permute(1, 2, 0).cpu().numpy()\n",
    "\n",
    "# 攻撃後（FGSMで生成した画像）\n",
    "adv_images, adv_labels = next(iter(adv_testloader))\n",
    "img_adv = adv_images[0].permute(1, 2, 0).cpu().numpy()\n",
    "\n",
    "# 防御後（ScoreSDEで浄化した画像）\n",
    "denoised_images, denoised_labels = next(iter(denoised_testloader))\n",
    "img_denoised = denoised_images[0].permute(1, 2, 0).cpu().numpy()\n",
    "\n",
    "plt.figure(figsize=(12, 4))\n",
    "plt.subplot(1, 3, 1)\n",
    "plt.imshow(img_clean)\n",
    "plt.title('攻撃前')\n",
    "plt.axis('off')\n",
    "\n",
    "plt.subplot(1, 3, 2)\n",
    "plt.imshow(img_adv)\n",
    "plt.title('攻撃後')\n",
    "plt.axis('off')\n",
    "\n",
    "plt.subplot(1, 3, 3)\n",
    "plt.imshow(img_denoised)\n",
    "plt.title('防御後')\n",
    "plt.axis('off')\n",
    "\n",
    "plt.tight_layout()\n",
    "plt.show()"
   ]
  },
  {
   "cell_type": "code",
   "execution_count": 6,
   "id": "1c5ee416",
   "metadata": {},
   "outputs": [
    {
     "name": "stdout",
     "output_type": "stream",
     "text": [
      "CUDA available: True\n",
      "GPU名: NVIDIA GeForce RTX 2080 Ti\n",
      "GPU数: 4\n"
     ]
    }
   ],
   "source": [
    "import torch\n",
    "print(\"CUDA available:\", torch.cuda.is_available())\n",
    "if torch.cuda.is_available():\n",
    "    print(\"GPU名:\", torch.cuda.get_device_name(0))\n",
    "    print(\"GPU数:\", torch.cuda.device_count())\n",
    "else:\n",
    "    print(\"GPUは利用できません\")"
   ]
  }
 ],
 "metadata": {
  "kernelspec": {
   "display_name": "env",
   "language": "python",
   "name": "python3"
  },
  "language_info": {
   "codemirror_mode": {
    "name": "ipython",
    "version": 3
   },
   "file_extension": ".py",
   "mimetype": "text/x-python",
   "name": "python",
   "nbconvert_exporter": "python",
   "pygments_lexer": "ipython3",
   "version": "3.10.18"
  }
 },
 "nbformat": 4,
 "nbformat_minor": 5
}
